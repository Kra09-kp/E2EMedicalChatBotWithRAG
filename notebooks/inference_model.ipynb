{
 "cells": [
  {
   "cell_type": "code",
   "execution_count": 4,
   "id": "64f52460",
   "metadata": {},
   "outputs": [],
   "source": [
    "import os\n",
    "from huggingface_hub import InferenceClient\n",
    "from dotenv import load_dotenv\n",
    "\n",
    "load_dotenv()\n",
    "\n",
    "client = InferenceClient(\n",
    "    provider=\"hf-inference\",\n",
    "    api_key=os.environ[\"HF_TOKEN\"],\n",
    "    model=\"sentence-transformers/all-MiniLM-L6-v2\"\n",
    ")\n",
    "\n"
   ]
  },
  {
   "cell_type": "code",
   "execution_count": 5,
   "id": "aa0ac138",
   "metadata": {},
   "outputs": [
    {
     "data": {
      "text/plain": [
       "<InferenceClient(model='sentence-transformers/all-MiniLM-L6-v2', timeout=None)>"
      ]
     },
     "execution_count": 5,
     "metadata": {},
     "output_type": "execute_result"
    }
   ],
   "source": [
    "client"
   ]
  },
  {
   "cell_type": "code",
   "execution_count": 7,
   "id": "b1276ab6",
   "metadata": {},
   "outputs": [
    {
     "ename": "AttributeError",
     "evalue": "'InferenceClient' object has no attribute 'embedding'",
     "output_type": "error",
     "traceback": [
      "\u001b[31m---------------------------------------------------------------------------\u001b[39m",
      "\u001b[31mAttributeError\u001b[39m                            Traceback (most recent call last)",
      "\u001b[36mCell\u001b[39m\u001b[36m \u001b[39m\u001b[32mIn[7]\u001b[39m\u001b[32m, line 2\u001b[39m\n\u001b[32m      1\u001b[39m \u001b[38;5;66;03m# Example: Get embedding for a sample query\u001b[39;00m\n\u001b[32m----> \u001b[39m\u001b[32m2\u001b[39m embedding = \u001b[43mclient\u001b[49m\u001b[43m.\u001b[49m\u001b[43membedding\u001b[49m(\u001b[33m\"\u001b[39m\u001b[33mThis is a sample sentence.\u001b[39m\u001b[33m\"\u001b[39m)\n\u001b[32m      3\u001b[39m embedding\n",
      "\u001b[31mAttributeError\u001b[39m: 'InferenceClient' object has no attribute 'embedding'"
     ]
    }
   ],
   "source": [
    "# Example: Get embedding for a sample query\n",
    "embedding = client.embedding(\"This is a sample sentence.\")\n",
    "embedding"
   ]
  },
  {
   "cell_type": "code",
   "execution_count": 3,
   "id": "9c7269b8",
   "metadata": {},
   "outputs": [],
   "source": [
    "import requests\n",
    "\n",
    "url = \"https://kra09-embedding-model.hf.space/embed\"   # adjust path to your actual route\n",
    "payload = {\"query\": \"Hello world\"}\n",
    "\n",
    "resp = requests.post(url, json=payload)   # or .get if your route is GET\n"
   ]
  },
  {
   "cell_type": "code",
   "execution_count": 5,
   "id": "6c5df9c3",
   "metadata": {},
   "outputs": [
    {
     "name": "stdout",
     "output_type": "stream",
     "text": [
      "200\n"
     ]
    }
   ],
   "source": [
    "print(resp.status_code)\n"
   ]
  },
  {
   "cell_type": "code",
   "execution_count": 10,
   "id": "5f363a65",
   "metadata": {},
   "outputs": [],
   "source": [
    "embeddings = resp.json().get(\"embeddings\",\"\")"
   ]
  },
  {
   "cell_type": "code",
   "execution_count": 11,
   "id": "c1d70b11",
   "metadata": {},
   "outputs": [
    {
     "data": {
      "text/plain": [
       "384"
      ]
     },
     "execution_count": 11,
     "metadata": {},
     "output_type": "execute_result"
    }
   ],
   "source": [
    "len(embeddings)"
   ]
  },
  {
   "cell_type": "code",
   "execution_count": 14,
   "id": "e05ec1a5",
   "metadata": {},
   "outputs": [],
   "source": [
    "def embed_query(query):\n",
    "    url = \"https://kra09-embedding-model.hf.space/embed\"   # adjust path to your actual route\n",
    "    payload = {\"query\": query}\n",
    "    resp = requests.post(url, json=payload)   # or .get if your route is GET\n",
    "    if resp.status_code == 200:\n",
    "        return resp.json().get(\"embeddings\",\"\")\n",
    "    else:\n",
    "        raise ValueError(f\"Error {resp.status_code}: {resp.text}\")"
   ]
  },
  {
   "cell_type": "code",
   "execution_count": 12,
   "id": "ef4dfaae",
   "metadata": {},
   "outputs": [],
   "source": [
    "from __future__ import annotations\n",
    "\n",
    "from typing import Any, Dict, List, Optional\n",
    "from pydantic import PrivateAttr\n",
    "from langchain.schema import BaseRetriever, Document\n",
    "from langchain.callbacks.manager import (\n",
    "    AsyncCallbackManagerForRetrieverRun,\n",
    "    CallbackManagerForRetrieverRun,\n",
    ")\n"
   ]
  },
  {
   "cell_type": "code",
   "execution_count": 15,
   "id": "b6f4864f",
   "metadata": {},
   "outputs": [],
   "source": [
    "\n",
    "class PineconeAsyncRetriever(BaseRetriever):\n",
    "    \"\"\"\n",
    "    A production-ready async retriever for Pinecone + HuggingFace embeddings.\n",
    "\n",
    "    Parameters\n",
    "    ----------\n",
    "    embedding_model : Any\n",
    "        Must expose an `embed_query(text: str) -> List[float]` method.\n",
    "    index : Any\n",
    "        Pinecone index client with an async `query(...)` method.\n",
    "    k : int, default 3\n",
    "        Number of documents to retrieve.\n",
    "    search_kwargs : dict, optional\n",
    "        Extra parameters for Pinecone's query call.\n",
    "    tags : list[str], optional\n",
    "        Custom tags for observability/monitoring.\n",
    "    \"\"\"\n",
    "\n",
    "    # _embedding_model: Any = PrivateAttr()\n",
    "    _index: Any = PrivateAttr()\n",
    "\n",
    "    k: int = 3\n",
    "    tags: Optional[List[str]] = None\n",
    "\n",
    "    def __init__(\n",
    "        self,\n",
    "        # embedding_model: Any,\n",
    "        index: Any,\n",
    "        k: int = 3,\n",
    "        tags: Optional[List[str]] = None,\n",
    "    ) -> None:\n",
    "        super().__init__()\n",
    "        # self._embedding_model = embedding_model\n",
    "        self._index = index\n",
    "        self.k = k\n",
    "        self.tags = tags or [\"PineconeVectorStore\", \"HuggingFaceEmbeddings\"]\n",
    "\n",
    "    # Disable sync usage to force async pattern\n",
    "    def _get_relevant_documents(\n",
    "        self,\n",
    "        query: str,\n",
    "        *,\n",
    "        run_manager: CallbackManagerForRetrieverRun,\n",
    "    ) -> List[Document]:\n",
    "        raise NotImplementedError(\n",
    "            \"Synchronous retrieval is disabled. Use `aget_relevant_documents`.\"\n",
    "        )\n",
    "\n",
    "    async def _aget_relevant_documents(\n",
    "        self,\n",
    "        query: str,\n",
    "        *,\n",
    "        run_manager: AsyncCallbackManagerForRetrieverRun,\n",
    "    ) -> List[Document]:\n",
    "        \"\"\"\n",
    "        Retrieve top-k documents asynchronously from Pinecone.\n",
    "\n",
    "        Returns\n",
    "        -------\n",
    "        list of langchain.schema.Document\n",
    "        \"\"\"\n",
    "        # 1. Embed the query\n",
    "        try:\n",
    "            query_vector = embed_query(query)\n",
    "        except Exception as e:\n",
    "            raise RuntimeError(f\"Embedding failed: {e}\") from e\n",
    "\n",
    "        # 2. Query Pinecone\n",
    "        try:\n",
    "            response = await self._index.query(\n",
    "                vector=query_vector,\n",
    "                top_k=self.k,\n",
    "                include_metadata=True,\n",
    "            )\n",
    "        except Exception as e:\n",
    "            raise RuntimeError(f\"Pinecone query failed: {e}\") from e\n",
    "\n",
    "        # 3. Build Document list\n",
    "        documents: List[Document] = []\n",
    "        for match in response.get(\"matches\", []):\n",
    "            metadata = match.get(\"metadata\", {})\n",
    "            text = metadata.get(\"text\")\n",
    "            if not text:\n",
    "                continue  # Skip if no text found\n",
    "            documents.append(\n",
    "                Document(\n",
    "                    page_content=text,\n",
    "                    metadata={\n",
    "                        \"source\": metadata.get(\"source\"),\n",
    "                        \"similarity_score\": match.get(\"score\"),\n",
    "                    },\n",
    "                )\n",
    "            )\n",
    "\n",
    "        return documents\n"
   ]
  },
  {
   "cell_type": "code",
   "execution_count": 1,
   "id": "311cdf56",
   "metadata": {},
   "outputs": [],
   "source": [
    "from pinecone.pinecone_asyncio import PineconeAsyncio \n",
    "from E2EMedicalChatBotWithRAG.utils.helper import load_env_variable"
   ]
  },
  {
   "cell_type": "code",
   "execution_count": 2,
   "id": "3b530399",
   "metadata": {},
   "outputs": [
    {
     "name": "stdout",
     "output_type": "stream",
     "text": [
      "[2025-09-26 15:11:47,753|(INFO)| File: helper | Message: Loaded environment variable: PINECONE_API_KEY]\n"
     ]
    }
   ],
   "source": [
    "pinecone_api_key = load_env_variable(\"PINECONE_API_KEY\")\n",
    "pc = PineconeAsyncio(api_key=pinecone_api_key)"
   ]
  },
  {
   "cell_type": "code",
   "execution_count": 18,
   "id": "74502e60",
   "metadata": {},
   "outputs": [],
   "source": [
    "host_name = 'medical-chatbot-60n3d5q.svc.aped-4627-b74a.pinecone.io'"
   ]
  },
  {
   "cell_type": "code",
   "execution_count": 19,
   "id": "10a4c7c0",
   "metadata": {},
   "outputs": [],
   "source": [
    "index = pc.IndexAsyncio(host=host_name)"
   ]
  },
  {
   "cell_type": "code",
   "execution_count": 20,
   "id": "bca2b94d",
   "metadata": {},
   "outputs": [],
   "source": [
    "retriever = PineconeAsyncRetriever(index=index)"
   ]
  },
  {
   "cell_type": "code",
   "execution_count": 21,
   "id": "0a92696e",
   "metadata": {},
   "outputs": [],
   "source": [
    "async_response = await retriever.ainvoke(\"what is acne\")"
   ]
  },
  {
   "cell_type": "code",
   "execution_count": 22,
   "id": "1b4a3bb6",
   "metadata": {},
   "outputs": [
    {
     "data": {
      "text/plain": [
       "[Document(metadata={'source': 'data/Medical_book.pdf', 'similarity_score': 0.663705885}, page_content='The goal of treating moderate acne is to decrease\\ninflammation and prevent new comedone formation. One\\neffective treatment is topical tretinoin along with a topical\\nGALE ENCYCLOPEDIA OF MEDICINE 2 25\\nAcne\\nAcne vulgaris affecting a woman’s face. Acne is the general\\nname given to a skin disorder in which the sebaceous\\nglands become inflamed. (Photograph by Biophoto Associ-\\nates, Photo Researchers, Inc. Reproduced by permission.)\\nGEM - 0001 to 0432 - A  10/22/03 1:41 PM  Page 25'),\n",
       " Document(metadata={'source': 'data/Medical_book.pdf', 'similarity_score': 0.636903822}, page_content='Description\\nAcne vulgaris, the medical term for common acne, is\\nthe most common skin disease. It affects nearly 17 million\\npeople in the United States. While acne can arise at any\\nage, it usually begins at puberty and worsens during ado-\\nlescence. Nearly 85% of people develop acne at some time\\nbetween the ages of 12-25 years. Up to 20% of women\\ndevelop mild acne. It is also found in some newborns.\\nThe sebaceous glands lie just beneath the skin’s sur-\\nface. They produce an oil called sebum, the skin’s natural\\nmoisturizer. These glands and the hair follicles within\\nwhich they are found are called sebaceous follicles.\\nThese follicles open onto the skin through pores. At\\npuberty, increased levels of androgens (male hormones)\\ncause the glands to produce too much sebum. When\\nexcess sebum combines with dead, sticky skin cells, a\\nhard plug, or comedo, forms that blocks the pore. Mild\\nnoninflammatory acne consists of the two types of come-\\ndones, whiteheads and blackheads.'),\n",
       " Document(metadata={'source': 'data/Medical_book.pdf', 'similarity_score': 0.623968184}, page_content='tranquilizers, antidepressants, antibiotics, oral contra-\\nceptives, and anabolic steroids.\\n• Personal hygiene. Abrasive soaps, hard scrubbing, or\\npicking at pimples will make them worse.\\n• Cosmetics. Oil-based makeup and hair sprays worsen\\nacne.\\n• Environment. Exposure to oils and greases, polluted air,\\nand sweating in hot weather aggravate acne.\\n• Stress. Emotional stress may contribute to acne.\\nAcne is usually not conspicuous, although inflamed\\nlesions may cause pain, tenderness, itching, or swelling.\\nThe most troubling aspects of these lesions are the nega-\\ntive cosmetic effects and potential for scarring. Some\\npeople, especially teenagers, become emotionally upset\\nabout their condition, and have problems forming rela-\\ntionships or keeping jobs.\\nDiagnosis\\nAcne patients are often treated by family doctors.\\nComplicated cases are referred to a dermatologist, a skin\\nGALE ENCYCLOPEDIA OF MEDICINE 224\\nAcne\\nGEM - 0001 to 0432 - A  10/22/03 1:41 PM  Page 24')]"
      ]
     },
     "execution_count": 22,
     "metadata": {},
     "output_type": "execute_result"
    }
   ],
   "source": [
    "async_response"
   ]
  },
  {
   "cell_type": "code",
   "execution_count": 1,
   "id": "941ba8a3",
   "metadata": {},
   "outputs": [
    {
     "data": {
      "text/plain": [
       "'/media/kirti/Dev/GenAI/E2EMedicalChatBotWithRAG/notebooks'"
      ]
     },
     "execution_count": 1,
     "metadata": {},
     "output_type": "execute_result"
    }
   ],
   "source": [
    "%pwd"
   ]
  },
  {
   "cell_type": "code",
   "execution_count": 2,
   "id": "652408ff",
   "metadata": {},
   "outputs": [
    {
     "name": "stdout",
     "output_type": "stream",
     "text": [
      "/media/kirti/Dev/GenAI/E2EMedicalChatBotWithRAG\n"
     ]
    }
   ],
   "source": [
    "%cd .."
   ]
  },
  {
   "cell_type": "code",
   "execution_count": 3,
   "id": "bea3bc8c",
   "metadata": {},
   "outputs": [
    {
     "name": "stdout",
     "output_type": "stream",
     "text": [
      "[2025-09-26 15:13:22,499|(INFO)| File: helper | Message: Loaded environment variable: PINECONE_API_KEY]\n"
     ]
    },
    {
     "name": "stderr",
     "output_type": "stream",
     "text": [
      "/media/kirti/Dev/GenAI/E2EMedicalChatBotWithRAG/.venv/lib/python3.12/site-packages/langchain_pinecone/__init__.py:3: LangChainDeprecationWarning: As of langchain-core 0.3.0, LangChain uses pydantic v2 internally. The langchain_core.pydantic_v1 module was a compatibility shim for pydantic v1, and should no longer be used. Please update the code to import from Pydantic directly.\n",
      "\n",
      "For example, replace imports like: `from langchain_core.pydantic_v1 import BaseModel`\n",
      "with: `from pydantic import BaseModel`\n",
      "or the v1 compatibility namespace if you are working in a code base that has not been fully upgraded to pydantic 2 yet. \tfrom pydantic.v1 import BaseModel\n",
      "\n",
      "  from langchain_pinecone.vectorstores import Pinecone, PineconeVectorStore\n"
     ]
    }
   ],
   "source": [
    "from E2EMedicalChatBotWithRAG.vectorestores.async_pinecone_db import AsyncPineconeDB"
   ]
  },
  {
   "cell_type": "code",
   "execution_count": 4,
   "id": "930828e3",
   "metadata": {},
   "outputs": [
    {
     "name": "stdout",
     "output_type": "stream",
     "text": [
      "[2025-09-26 15:14:02,591|(INFO)| File: helper | Message: Loaded environment variable: PINECONE_API_KEY]\n"
     ]
    }
   ],
   "source": [
    "from pinecone.pinecone_asyncio import PineconeAsyncio\n",
    "from E2EMedicalChatBotWithRAG.utils.helper import load_env_variable\n",
    "\n",
    "pinecone_api_key = load_env_variable(\"PINECONE_API_KEY\")\n",
    "pc = PineconeAsyncio(api_key=pinecone_api_key)"
   ]
  },
  {
   "cell_type": "code",
   "execution_count": 5,
   "id": "e2a48da6",
   "metadata": {},
   "outputs": [],
   "source": [
    "retriever = await AsyncPineconeDB(client=pc).get_retriever()"
   ]
  },
  {
   "cell_type": "code",
   "execution_count": 6,
   "id": "880647c1",
   "metadata": {},
   "outputs": [
    {
     "data": {
      "text/plain": [
       "PineconeAsyncRetriever(tags=['PineconeVectorStore', 'HuggingFaceEmbeddings'], search_kwargs={'k': 3})"
      ]
     },
     "execution_count": 6,
     "metadata": {},
     "output_type": "execute_result"
    }
   ],
   "source": [
    "retriever"
   ]
  },
  {
   "cell_type": "code",
   "execution_count": 7,
   "id": "2f97b7db",
   "metadata": {},
   "outputs": [],
   "source": [
    "response = await retriever.ainvoke(\"what is acne\")"
   ]
  },
  {
   "cell_type": "code",
   "execution_count": 8,
   "id": "3b34ce7c",
   "metadata": {},
   "outputs": [
    {
     "data": {
      "text/plain": [
       "[Document(metadata={'source': 'data/Medical_book.pdf', 'similarity_score': 0.663705885}, page_content='The goal of treating moderate acne is to decrease\\ninflammation and prevent new comedone formation. One\\neffective treatment is topical tretinoin along with a topical\\nGALE ENCYCLOPEDIA OF MEDICINE 2 25\\nAcne\\nAcne vulgaris affecting a woman’s face. Acne is the general\\nname given to a skin disorder in which the sebaceous\\nglands become inflamed. (Photograph by Biophoto Associ-\\nates, Photo Researchers, Inc. Reproduced by permission.)\\nGEM - 0001 to 0432 - A  10/22/03 1:41 PM  Page 25'),\n",
       " Document(metadata={'source': 'data/Medical_book.pdf', 'similarity_score': 0.636903822}, page_content='Description\\nAcne vulgaris, the medical term for common acne, is\\nthe most common skin disease. It affects nearly 17 million\\npeople in the United States. While acne can arise at any\\nage, it usually begins at puberty and worsens during ado-\\nlescence. Nearly 85% of people develop acne at some time\\nbetween the ages of 12-25 years. Up to 20% of women\\ndevelop mild acne. It is also found in some newborns.\\nThe sebaceous glands lie just beneath the skin’s sur-\\nface. They produce an oil called sebum, the skin’s natural\\nmoisturizer. These glands and the hair follicles within\\nwhich they are found are called sebaceous follicles.\\nThese follicles open onto the skin through pores. At\\npuberty, increased levels of androgens (male hormones)\\ncause the glands to produce too much sebum. When\\nexcess sebum combines with dead, sticky skin cells, a\\nhard plug, or comedo, forms that blocks the pore. Mild\\nnoninflammatory acne consists of the two types of come-\\ndones, whiteheads and blackheads.'),\n",
       " Document(metadata={'source': 'data/Medical_book.pdf', 'similarity_score': 0.623968184}, page_content='tranquilizers, antidepressants, antibiotics, oral contra-\\nceptives, and anabolic steroids.\\n• Personal hygiene. Abrasive soaps, hard scrubbing, or\\npicking at pimples will make them worse.\\n• Cosmetics. Oil-based makeup and hair sprays worsen\\nacne.\\n• Environment. Exposure to oils and greases, polluted air,\\nand sweating in hot weather aggravate acne.\\n• Stress. Emotional stress may contribute to acne.\\nAcne is usually not conspicuous, although inflamed\\nlesions may cause pain, tenderness, itching, or swelling.\\nThe most troubling aspects of these lesions are the nega-\\ntive cosmetic effects and potential for scarring. Some\\npeople, especially teenagers, become emotionally upset\\nabout their condition, and have problems forming rela-\\ntionships or keeping jobs.\\nDiagnosis\\nAcne patients are often treated by family doctors.\\nComplicated cases are referred to a dermatologist, a skin\\nGALE ENCYCLOPEDIA OF MEDICINE 224\\nAcne\\nGEM - 0001 to 0432 - A  10/22/03 1:41 PM  Page 24')]"
      ]
     },
     "execution_count": 8,
     "metadata": {},
     "output_type": "execute_result"
    }
   ],
   "source": [
    "response"
   ]
  },
  {
   "cell_type": "code",
   "execution_count": 10,
   "id": "4d55226f",
   "metadata": {},
   "outputs": [],
   "source": [
    "await pc.close()"
   ]
  },
  {
   "cell_type": "code",
   "execution_count": 1,
   "id": "63e3549a",
   "metadata": {},
   "outputs": [
    {
     "name": "stdout",
     "output_type": "stream",
     "text": [
      "/media/kirti/Dev/GenAI/E2EMedicalChatBotWithRAG\n"
     ]
    }
   ],
   "source": [
    "%cd .."
   ]
  },
  {
   "cell_type": "code",
   "execution_count": 2,
   "id": "375a228d",
   "metadata": {},
   "outputs": [
    {
     "name": "stdout",
     "output_type": "stream",
     "text": [
      "[2025-09-26 15:34:08,700|(INFO)| File: helper | Message: Loaded environment variable: PINECONE_API_KEY]\n"
     ]
    },
    {
     "name": "stderr",
     "output_type": "stream",
     "text": [
      "/media/kirti/Dev/GenAI/E2EMedicalChatBotWithRAG/.venv/lib/python3.12/site-packages/langchain_pinecone/__init__.py:3: LangChainDeprecationWarning: As of langchain-core 0.3.0, LangChain uses pydantic v2 internally. The langchain_core.pydantic_v1 module was a compatibility shim for pydantic v1, and should no longer be used. Please update the code to import from Pydantic directly.\n",
      "\n",
      "For example, replace imports like: `from langchain_core.pydantic_v1 import BaseModel`\n",
      "with: `from pydantic import BaseModel`\n",
      "or the v1 compatibility namespace if you are working in a code base that has not been fully upgraded to pydantic 2 yet. \tfrom pydantic.v1 import BaseModel\n",
      "\n",
      "  from langchain_pinecone.vectorstores import Pinecone, PineconeVectorStore\n"
     ]
    }
   ],
   "source": [
    "from E2EMedicalChatBotWithRAG.chains.rag_chain import RAGChain"
   ]
  },
  {
   "cell_type": "code",
   "execution_count": 3,
   "id": "4ded38b0",
   "metadata": {},
   "outputs": [
    {
     "name": "stdout",
     "output_type": "stream",
     "text": [
      "[2025-09-26 15:34:21,815|(INFO)| File: helper | Message: Loaded environment variable: PINECONE_API_KEY]\n"
     ]
    }
   ],
   "source": [
    "from pinecone.pinecone_asyncio import PineconeAsyncio\n",
    "from E2EMedicalChatBotWithRAG.utils.helper import load_env_variable\n",
    "\n",
    "pinecone_api_key = load_env_variable(\"PINECONE_API_KEY\")\n",
    "pc = PineconeAsyncio(api_key=pinecone_api_key)"
   ]
  },
  {
   "cell_type": "code",
   "execution_count": 4,
   "id": "50f02737",
   "metadata": {},
   "outputs": [
    {
     "name": "stdout",
     "output_type": "stream",
     "text": [
      "[2025-09-26 15:34:23,296|(INFO)| File: helper | Message: Loaded environment variable: GROQ_API_KEY]\n"
     ]
    }
   ],
   "source": [
    "chain = await RAGChain.make_async(client=pc)"
   ]
  },
  {
   "cell_type": "code",
   "execution_count": 13,
   "id": "b3d3bf0c",
   "metadata": {},
   "outputs": [],
   "source": [
    "question = \"who is the president of the USA?\""
   ]
  },
  {
   "cell_type": "code",
   "execution_count": 14,
   "id": "08d0e063",
   "metadata": {},
   "outputs": [
    {
     "name": "stdout",
     "output_type": "stream",
     "text": [
      "[2025-09-26 15:36:08,734|(INFO)| File: _client | Message: HTTP Request: POST https://api.groq.com/openai/v1/chat/completions \"HTTP/1.1 200 OK\"]\n",
      "I'm a medical assistant, and I'm here to help with medical-related questions. The presidency of the United States is a topic of general knowledge and politics, which is outside my area of expertise. I don't have information on the current or past presidents of the USA. If you have a medical-related question, I'd be happy to try and assist you."
     ]
    }
   ],
   "source": [
    "async for token in chain.ainvoke(question):\n",
    "    print(token, end=\"\", flush=True)"
   ]
  },
  {
   "cell_type": "code",
   "execution_count": 15,
   "id": "09b7c77b",
   "metadata": {},
   "outputs": [],
   "source": [
    "await pc.close()"
   ]
  },
  {
   "cell_type": "code",
   "execution_count": null,
   "id": "576dfe0e",
   "metadata": {},
   "outputs": [],
   "source": []
  }
 ],
 "metadata": {
  "kernelspec": {
   "display_name": "E2EMedicalChatBotWithRAG",
   "language": "python",
   "name": "python3"
  },
  "language_info": {
   "codemirror_mode": {
    "name": "ipython",
    "version": 3
   },
   "file_extension": ".py",
   "mimetype": "text/x-python",
   "name": "python",
   "nbconvert_exporter": "python",
   "pygments_lexer": "ipython3",
   "version": "3.12.3"
  }
 },
 "nbformat": 4,
 "nbformat_minor": 5
}
