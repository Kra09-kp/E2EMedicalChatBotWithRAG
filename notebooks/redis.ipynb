{
 "cells": [
  {
   "cell_type": "code",
   "execution_count": 1,
   "id": "cda5e07f",
   "metadata": {},
   "outputs": [
    {
     "data": {
      "text/plain": [
       "'/media/kirti/Dev/GenAI/E2EMedicalChatBotWithRAG/notebooks'"
      ]
     },
     "execution_count": 1,
     "metadata": {},
     "output_type": "execute_result"
    }
   ],
   "source": [
    "%pwd"
   ]
  },
  {
   "cell_type": "code",
   "execution_count": 2,
   "id": "f7222514",
   "metadata": {},
   "outputs": [
    {
     "name": "stdout",
     "output_type": "stream",
     "text": [
      "/media/kirti/Dev/GenAI/E2EMedicalChatBotWithRAG\n"
     ]
    }
   ],
   "source": [
    "%cd .."
   ]
  },
  {
   "cell_type": "code",
   "execution_count": 3,
   "id": "443cd0b5",
   "metadata": {},
   "outputs": [
    {
     "name": "stderr",
     "output_type": "stream",
     "text": [
      "/media/kirti/Dev/GenAI/E2EMedicalChatBotWithRAG/.venv/lib/python3.12/site-packages/tqdm/auto.py:21: TqdmWarning: IProgress not found. Please update jupyter and ipywidgets. See https://ipywidgets.readthedocs.io/en/stable/user_install.html\n",
      "  from .autonotebook import tqdm as notebook_tqdm\n"
     ]
    }
   ],
   "source": [
    "from src.E2EMedicalChatBotWithRAG.logger import logger\n",
    "from src.E2EMedicalChatBotWithRAG.utils import load_env_variable\n",
    "from src.E2EMedicalChatBotWithRAG.config.configuration import ConfigurationManager\n",
    "from src.E2EMedicalChatBotWithRAG.exceptions import AppException\n",
    "from src.E2EMedicalChatBotWithRAG.models.embedding_model import EmbeddingModel"
   ]
  },
  {
   "cell_type": "code",
   "execution_count": 4,
   "id": "cb5487f6",
   "metadata": {},
   "outputs": [],
   "source": [
    "from langchain_redis import RedisVectorStore "
   ]
  },
  {
   "cell_type": "code",
   "execution_count": 6,
   "id": "ed109550",
   "metadata": {},
   "outputs": [
    {
     "name": "stdout",
     "output_type": "stream",
     "text": [
      "[2025-09-20 17:11:40,304|(INFO)| File: SentenceTransformer | Message: Load pretrained SentenceTransformer: sentence-transformers/all-MiniLM-L6-v2]\n",
      "[2025-09-20 17:11:46,323|(INFO)| File: embedding_model | Message: Successfully loaded embedding model: sentence-transformers/all-MiniLM-L6-v2]\n"
     ]
    }
   ],
   "source": [
    "embedding_model = EmbeddingModel()._get_model()"
   ]
  },
  {
   "cell_type": "code",
   "execution_count": 7,
   "id": "b455fb4c",
   "metadata": {},
   "outputs": [
    {
     "name": "stdout",
     "output_type": "stream",
     "text": [
      "[2025-09-20 17:14:23,354|(INFO)| File: index | Message: Index already exists, not overwriting.]\n"
     ]
    }
   ],
   "source": [
    "vectore_store = RedisVectorStore(\n",
    "    index_name=\"medical-chatbot\",\n",
    "    embeddings=embedding_model,\n",
    "    redis_url=\"redis://localhost:6380\"\n",
    ")"
   ]
  },
  {
   "cell_type": "code",
   "execution_count": 8,
   "id": "b4592a2f",
   "metadata": {},
   "outputs": [],
   "source": [
    "from src.E2EMedicalChatBotWithRAG.preprocess.document_preprocesser import DocumentPreprocesser\n",
    "document_preprocesser = DocumentPreprocesser()"
   ]
  },
  {
   "cell_type": "code",
   "execution_count": 9,
   "id": "271d8ab2",
   "metadata": {},
   "outputs": [],
   "source": [
    "path = \"./data\""
   ]
  },
  {
   "cell_type": "code",
   "execution_count": 10,
   "id": "1fd6c718",
   "metadata": {},
   "outputs": [
    {
     "name": "stdout",
     "output_type": "stream",
     "text": [
      "[2025-09-20 17:15:32,933|(INFO)| File: document_preprocesser | Message: Loaded 637 documents from ./data]\n",
      "[2025-09-20 17:15:32,965|(INFO)| File: document_preprocesser | Message: Filtered out 637 documents that don't meet the criteria]\n",
      "[2025-09-20 17:15:33,263|(INFO)| File: document_preprocesser | Message: Chunked 3426 documents into smaller chunks.]\n"
     ]
    }
   ],
   "source": [
    "clean_document = document_preprocesser.run(path)"
   ]
  },
  {
   "cell_type": "code",
   "execution_count": 11,
   "id": "5965469e",
   "metadata": {},
   "outputs": [
    {
     "name": "stdout",
     "output_type": "stream",
     "text": [
      "[2025-09-20 17:15:33,375|(INFO)| File: index | Message: Index already exists, not overwriting.]\n"
     ]
    }
   ],
   "source": [
    "doc_vector_store = vectore_store.from_documents(\n",
    "    documents=clean_document,\n",
    "    embedding=embedding_model,\n",
    "    index_name=\"medical-chatbot\",\n",
    "    redis_url=\"redis://localhost:6380\"\n",
    ")"
   ]
  },
  {
   "cell_type": "code",
   "execution_count": 13,
   "id": "bc2a49df",
   "metadata": {},
   "outputs": [
    {
     "name": "stdout",
     "output_type": "stream",
     "text": [
      "[2025-09-20 14:43:16,822|(INFO)| File: index | Message: Index already exists, not overwriting.]\n"
     ]
    }
   ],
   "source": [
    "doc_vector_store = vectore_store.from_existing_index(\n",
    "    index_name=\"medical-chatbot\",\n",
    "    embedding=embedding_model,\n",
    "    redis_url=\"redis://localhost:6380\"\n",
    ")"
   ]
  },
  {
   "cell_type": "code",
   "execution_count": 15,
   "id": "932ade81",
   "metadata": {},
   "outputs": [],
   "source": [
    "retriever = doc_vector_store.as_retriever(search_type=\"similarity\", search_kwargs={\"k\": 3})\n"
   ]
  },
  {
   "cell_type": "code",
   "execution_count": 16,
   "id": "1d6a1f1a",
   "metadata": {},
   "outputs": [
    {
     "data": {
      "text/plain": [
       "VectorStoreRetriever(tags=['RedisVectorStore', 'HuggingFaceEmbeddings'], vectorstore=<langchain_redis.vectorstores.RedisVectorStore object at 0x762fe7092a80>, search_kwargs={'k': 3})"
      ]
     },
     "execution_count": 16,
     "metadata": {},
     "output_type": "execute_result"
    }
   ],
   "source": [
    "retriever"
   ]
  },
  {
   "cell_type": "code",
   "execution_count": 12,
   "id": "1ad4d830",
   "metadata": {},
   "outputs": [],
   "source": [
    "from langchain.schema import Document\n",
    "new_doc = Document(\n",
    "    page_content=\"This project is built by Kirti Pogra, she used langchain and groq and RAG functionalitize. And this project is for her portfolio. \\\n",
    "     The code is available on GitHub. The project name is medical chatbot using rag \",\n",
    "    metadata={\"source\": \"kirti pogra\"}\n",
    ")\n"
   ]
  },
  {
   "cell_type": "code",
   "execution_count": 13,
   "id": "a9cc73d3",
   "metadata": {},
   "outputs": [
    {
     "data": {
      "text/plain": [
       "['medical-chatbot::01K5KM55NHXVFQRA8AP3KPSN54']"
      ]
     },
     "execution_count": 13,
     "metadata": {},
     "output_type": "execute_result"
    }
   ],
   "source": [
    "doc_vector_store.add_documents(\n",
    "    [new_doc]\n",
    ")"
   ]
  },
  {
   "cell_type": "code",
   "execution_count": 17,
   "id": "57597dc7",
   "metadata": {},
   "outputs": [
    {
     "data": {
      "text/plain": [
       "[Document(metadata={'source': 'kirti pogra'}, page_content='This project is built by Kirti Pogra, she used langchain and groq and RAG functionalitize. And this project is for her portfolio.      The code is available on GitHub. The project name is medical chatbot using rag '),\n",
       " Document(metadata={'source': 'data/Medical_book.pdf'}, page_content='His listening program, the invention of the Electronic\\nEar, and his work with the therapeutic use of sound and\\nmusic for the past fifty years have made Tomatis arguably\\nthe best known and most successful ear specialist in the\\nworld. There are more than two hundred Tomatis Centers\\nworldwide, treating a vast variety of problems related to\\nthe ability to hear.\\n(Photograph by V. Brynner. Gamma Liaison. Reproduced by\\npermission.)\\nGEM - 0001 to 0432 - A  10/22/03 1:43 PM  Page 416'),\n",
       " Document(metadata={'source': 'data/Medical_book.pdf'}, page_content='8 (July-August 1997): 26.\\nORGANIZATIONS\\nProject Inform. 205 13th Street, #2001, San Francisco, CA\\n94103. (415) 558-8669. <http://www.projinf.org>.\\nGALE ENCYCLOPEDIA OF MEDICINE 2304\\nAntiretroviral drugs\\nGEM - 0001 to 0432 - A  10/22/03 1:42 PM  Page 304')]"
      ]
     },
     "execution_count": 17,
     "metadata": {},
     "output_type": "execute_result"
    }
   ],
   "source": [
    "retriever.invoke(\"who built this project?\")"
   ]
  },
  {
   "cell_type": "code",
   "execution_count": null,
   "id": "0a00e970",
   "metadata": {},
   "outputs": [],
   "source": []
  },
  {
   "cell_type": "code",
   "execution_count": 19,
   "id": "81452701",
   "metadata": {},
   "outputs": [
    {
     "data": {
      "text/plain": [
       "[Document(metadata={'source': 'kirti pogra'}, page_content='This project is built by Kirti Pogra using LangChain, Pinecone and Groq. The code is available on GitHub. This project is only for educational purposes.')]"
      ]
     },
     "execution_count": 19,
     "metadata": {},
     "output_type": "execute_result"
    }
   ],
   "source": [
    "retriever.invoke(\"who is kirti pogra\")"
   ]
  },
  {
   "cell_type": "code",
   "execution_count": null,
   "id": "46d95276",
   "metadata": {},
   "outputs": [],
   "source": []
  }
 ],
 "metadata": {
  "kernelspec": {
   "display_name": "E2EMedicalChatBotWithRAG",
   "language": "python",
   "name": "python3"
  },
  "language_info": {
   "codemirror_mode": {
    "name": "ipython",
    "version": 3
   },
   "file_extension": ".py",
   "mimetype": "text/x-python",
   "name": "python",
   "nbconvert_exporter": "python",
   "pygments_lexer": "ipython3",
   "version": "3.12.3"
  }
 },
 "nbformat": 4,
 "nbformat_minor": 5
}
